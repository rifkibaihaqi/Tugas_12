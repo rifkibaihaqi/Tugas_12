{
  "nbformat": 4,
  "nbformat_minor": 0,
  "metadata": {
    "colab": {
      "name": "Untitled2.ipynb",
      "provenance": [],
      "authorship_tag": "ABX9TyOIkPQboAkasgTGGKOff2Ez",
      "include_colab_link": true
    },
    "kernelspec": {
      "name": "python3",
      "display_name": "Python 3"
    }
  },
  "cells": [
    {
      "cell_type": "markdown",
      "metadata": {
        "id": "view-in-github",
        "colab_type": "text"
      },
      "source": [
        "<a href=\"https://colab.research.google.com/github/rifkibaihaqi/Tugas_12/blob/main/Mohammad%20Rifki%20Baihaqi%20-%201101208503.ipynb\" target=\"_parent\"><img src=\"https://colab.research.google.com/assets/colab-badge.svg\" alt=\"Open In Colab\"/></a>"
      ]
    },
    {
      "cell_type": "code",
      "metadata": {
        "id": "4o08a7RzFPXc"
      },
      "source": [
        "import numpy as np"
      ],
      "execution_count": 1,
      "outputs": []
    },
    {
      "cell_type": "code",
      "metadata": {
        "id": "ea_Ad8HuFYf0"
      },
      "source": [
        "NtL = lambda x: 10*np.log10(x)"
      ],
      "execution_count": 2,
      "outputs": []
    },
    {
      "cell_type": "code",
      "metadata": {
        "colab": {
          "base_uri": "https://localhost:8080/"
        },
        "id": "wUhvjLmpFad4",
        "outputId": "c054131f-4373-43cb-e53c-b39c45e79aec"
      },
      "source": [
        "z=NtL(1)\r\n",
        "print(z)"
      ],
      "execution_count": 3,
      "outputs": [
        {
          "output_type": "stream",
          "text": [
            "0.0\n"
          ],
          "name": "stdout"
        }
      ]
    },
    {
      "cell_type": "code",
      "metadata": {
        "id": "1K1pAwvKFbmB"
      },
      "source": [
        "LtN = lambda x: 10**(x/10)"
      ],
      "execution_count": 4,
      "outputs": []
    },
    {
      "cell_type": "code",
      "metadata": {
        "colab": {
          "base_uri": "https://localhost:8080/"
        },
        "id": "v2Pwf77wFfwZ",
        "outputId": "bcb0c409-9a9d-44d3-c149-7bf75c06dcbe"
      },
      "source": [
        "y=LtN(0)\r\n",
        "print(y)"
      ],
      "execution_count": 5,
      "outputs": [
        {
          "output_type": "stream",
          "text": [
            "1.0\n"
          ],
          "name": "stdout"
        }
      ]
    },
    {
      "cell_type": "code",
      "metadata": {
        "colab": {
          "base_uri": "https://localhost:8080/"
        },
        "id": "-7XMAAiQFpAp",
        "outputId": "7640a6f2-b4f0-46b1-e360-32f44ef00a65"
      },
      "source": [
        "Lp = 46.3 + (33.9*np.log10(1800)) - (13.83*np.log10(100)) - ((((1.1*np.log10(1800))-0.7)*10) - ((1.56*np.log10(1800))-0.8)) + ((44.9-(6.55*np.log10(100)))*np.log10(10)) + 0\r\n",
        "print(Lp)"
      ],
      "execution_count": 6,
      "outputs": [
        {
          "output_type": "stream",
          "text": [
            "136.26396547482688\n"
          ],
          "name": "stdout"
        }
      ]
    },
    {
      "cell_type": "code",
      "metadata": {
        "colab": {
          "base_uri": "https://localhost:8080/"
        },
        "id": "5pQZdqWUIFlZ",
        "outputId": "154b51cd-9528-4d52-af8f-54e7ce227f25"
      },
      "source": [
        "abc = 46.3 + (33.9*np.log10(1800)) - (13.82*np.log10(100))\r\n",
        "print(abc)"
      ],
      "execution_count": 7,
      "outputs": [
        {
          "output_type": "stream",
          "text": [
            "129.01373792300205\n"
          ],
          "name": "stdout"
        }
      ]
    },
    {
      "cell_type": "code",
      "metadata": {
        "colab": {
          "base_uri": "https://localhost:8080/"
        },
        "id": "kHA7jAJtIIK7",
        "outputId": "f55d52db-714d-4894-e744-045953693ba5"
      },
      "source": [
        "ahr = ((((1.1*np.log10(1800))-0.7)*10) - ((1.56*np.log10(1800))-0.8))\r\n",
        "print(ahr)"
      ],
      "execution_count": 8,
      "outputs": [
        {
          "output_type": "stream",
          "text": [
            "24.529772448175216\n"
          ],
          "name": "stdout"
        }
      ]
    },
    {
      "cell_type": "code",
      "metadata": {
        "colab": {
          "base_uri": "https://localhost:8080/"
        },
        "id": "z4oSF66RIKl4",
        "outputId": "c92a0c04-fab4-4380-9cf7-931ca99296c6"
      },
      "source": [
        "ef = (44.9-(6.55*np.log10(100)))*np.log10(10)\r\n",
        "print(ef)"
      ],
      "execution_count": 9,
      "outputs": [
        {
          "output_type": "stream",
          "text": [
            "31.799999999999997\n"
          ],
          "name": "stdout"
        }
      ]
    },
    {
      "cell_type": "code",
      "metadata": {
        "id": "CKvbGZffIPjR"
      },
      "source": [
        "def ploss (d, f, cm, ht, hr):\r\n",
        "  pldb= 46.3 + (33.9*np.log10(f)) - (13.83*np.log10(ht)) - ((((1.1*np.log10(f)) - 0.7) * hr) - ((1.56*np.log10(f)) - 0.8)) + ((44.9 - (6.55*np.log10(ht)))*np.log10(d)) + cm\r\n",
        "  plnum=LtN(-pldb)\r\n",
        "  return pldb,plnum"
      ],
      "execution_count": 10,
      "outputs": []
    },
    {
      "cell_type": "code",
      "metadata": {
        "colab": {
          "base_uri": "https://localhost:8080/"
        },
        "id": "USzlfiNYIYnC",
        "outputId": "bc48d643-2706-4b8d-ffde-fc070ab145da"
      },
      "source": [
        "pathlossdb, pathlossnum = ploss(30, 1900, 0, 150, 15)\r\n",
        "print(\"pathloss dalam db =\",pathlossdb,\"dB\")\r\n",
        "print(\"pathloss dalam numerik =\",pathlossnum,\"kali\")"
      ],
      "execution_count": 11,
      "outputs": [
        {
          "output_type": "stream",
          "text": [
            "pathloss dalam db = 133.33857373444505 dB\n",
            "pathloss dalam numerik = 4.635991452322962e-14 kali\n"
          ],
          "name": "stdout"
        }
      ]
    }
  ]
}